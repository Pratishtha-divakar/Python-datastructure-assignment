{
 "cells": [
  {
   "cell_type": "code",
   "execution_count": 2,
   "id": "a68313a9-1a69-42f5-ad4a-2fdb253d31ca",
   "metadata": {},
   "outputs": [
    {
     "name": "stdout",
     "output_type": "stream",
     "text": [
      "atisht\n"
     ]
    }
   ],
   "source": [
    "#QUESTION 1 : Discuss string slicing and provide examples.\n",
    "\n",
    "#String slicing allows us to extract a portion of a string by specifying a start and an end index.\n",
    "\n",
    "name=\"pratishtha\"\n",
    "print(name[slice(2,8)])      #The slice (2,8) method slices the string from index to 2 to index7 and prints the result"
   ]
  },
  {
   "cell_type": "code",
   "execution_count": 3,
   "id": "ec0da9e5-a899-4087-ab35-894fe71ff40e",
   "metadata": {},
   "outputs": [
    {
     "name": "stdout",
     "output_type": "stream",
     "text": [
      "aih\n"
     ]
    }
   ],
   "source": [
    "print(name[slice(2,8,2)])   #The slice (2,8,2) method slices can be performed within a given range by skipping the values"
   ]
  },
  {
   "cell_type": "code",
   "execution_count": null,
   "id": "3a237199-bae9-4388-bae5-5e001cf9d167",
   "metadata": {},
   "outputs": [],
   "source": [
    "#QUESTION 2 : Explain the key features of lists in python.\n",
    "\n",
    "'''Key features of lists are :\n",
    "  1) Mutable and Dynamic.\n",
    "  2)Items can be added, removed, or changed after the list is defined.\n",
    "  3)They are ordered, newly added items will be placed at the end of the list.\n",
    "  4)It uses zero-based indexing.Means every list item has an associated index, and first item's index is zero.\n",
    "  5)It allows duplicated values."
   ]
  },
  {
   "cell_type": "code",
   "execution_count": 5,
   "id": "5243eba8-9793-4496-bb77-d43b00ece05a",
   "metadata": {},
   "outputs": [
    {
     "name": "stdout",
     "output_type": "stream",
     "text": [
      "['a', 'b', 3.4, 'train']\n",
      "second element of list is :  b\n"
     ]
    }
   ],
   "source": [
    "#QUESTION 3 : Describe how to access, modify, delete elements in a list with examples.\n",
    "\n",
    "#To access the elements we refer to the index number, we consider from index 0 in forward indexing, and from -1 in backward indexing.\n",
    "\n",
    "lst=['a','b',3.4,'train']\n",
    "print(lst)\n",
    "print(\"second element of list is : \", lst[1])"
   ]
  },
  {
   "cell_type": "code",
   "execution_count": 6,
   "id": "a04b7d28-3c49-4605-b7c1-3546a7c547c0",
   "metadata": {},
   "outputs": [
    {
     "name": "stdout",
     "output_type": "stream",
     "text": [
      "[15, 'b', 3.4, 'pratishtha']\n"
     ]
    }
   ],
   "source": [
    "#To modify the elements, at the particular index :\n",
    "\n",
    "lst[0]=15\n",
    "lst[-1]=\"pratishtha\"\n",
    "print(lst)"
   ]
  },
  {
   "cell_type": "code",
   "execution_count": 9,
   "id": "c647bee4-c9f2-4b2e-beb8-da0a5757bcbb",
   "metadata": {},
   "outputs": [
    {
     "name": "stdout",
     "output_type": "stream",
     "text": [
      "[15]\n"
     ]
    }
   ],
   "source": [
    "#To delete the elements, at the particular index:\n",
    "\n",
    "del lst[1:3]\n",
    "print(lst)"
   ]
  },
  {
   "cell_type": "code",
   "execution_count": 10,
   "id": "ed0ff907-fafa-46a6-aa59-fa6e45196c2b",
   "metadata": {},
   "outputs": [
    {
     "name": "stdout",
     "output_type": "stream",
     "text": [
      "list is : [1, 2, 3, 3, 4, 4, 6, 5]\n",
      "[1, 2, 9, 3, 4, 4, 6, 5]\n"
     ]
    }
   ],
   "source": [
    "#QUESTION 4 : Compare and contrast tuples and list with examples.\n",
    "\n",
    "'''1)The list structure is dynamic, while the tuple structure is static.\n",
    "   2)List are denoted by [], while tuples are denoted by ().\n",
    "   3)List are mutable,while tuples are immutable.'''\n",
    "\n",
    "l=[1,2,3,3,4,4,6,5]    # example to show mutability of a list.\n",
    "print(\"list is :\",l)\n",
    "l[2]=9\n",
    "print(l)\n"
   ]
  },
  {
   "cell_type": "code",
   "execution_count": 11,
   "id": "e2d207be-e2a7-4d25-b411-34ffd146d804",
   "metadata": {},
   "outputs": [
    {
     "ename": "TypeError",
     "evalue": "'tuple' object does not support item assignment",
     "output_type": "error",
     "traceback": [
      "\u001b[0;31m---------------------------------------------------------------------------\u001b[0m",
      "\u001b[0;31mTypeError\u001b[0m                                 Traceback (most recent call last)",
      "Cell \u001b[0;32mIn[11], line 2\u001b[0m\n\u001b[1;32m      1\u001b[0m t\u001b[38;5;241m=\u001b[39m(\u001b[38;5;241m0\u001b[39m,\u001b[38;5;241m1\u001b[39m,\u001b[38;5;241m2\u001b[39m,\u001b[38;5;241m3\u001b[39m)     \u001b[38;5;66;03m#example to show immutability of tuple.\u001b[39;00m\n\u001b[0;32m----> 2\u001b[0m \u001b[43mt\u001b[49m\u001b[43m[\u001b[49m\u001b[38;5;241;43m1\u001b[39;49m\u001b[43m]\u001b[49m\u001b[38;5;241m=\u001b[39m\u001b[38;5;241m4\u001b[39m\n\u001b[1;32m      3\u001b[0m \u001b[38;5;28mprint\u001b[39m(t)\n",
      "\u001b[0;31mTypeError\u001b[0m: 'tuple' object does not support item assignment"
     ]
    }
   ],
   "source": [
    "t=(0,1,2,3)     #example to show immutability of tuple.\n",
    "t[1]=4\n",
    "print(t)"
   ]
  },
  {
   "cell_type": "code",
   "execution_count": 12,
   "id": "fad4c383-95be-4302-8c85-dfcdec02db5e",
   "metadata": {},
   "outputs": [
    {
     "name": "stdout",
     "output_type": "stream",
     "text": [
      "{1, 7.8, 'p', 10, 11}\n"
     ]
    }
   ],
   "source": [
    "#QUESTION 5 : Describe the key features of sets and provide examples of their use.\n",
    "\n",
    "'''1)Sets are unordered and unindexed.\n",
    "   2)Elements are unique. Duplicate elements are not allowed.\n",
    "   3)Itself may get modified but the elements must be of an immutable type.\n",
    "   4)Elements are written in {} .\n",
    "USE CASES : ○ The order of data doesn't matter.\n",
    "            ○ We donn't need repetition.'''\n",
    "\n",
    "S={1,'p',7.8,10,11}\n",
    "print(S)\n"
   ]
  },
  {
   "cell_type": "code",
   "execution_count": 14,
   "id": "bec17f0d-04a6-4ab3-9ee8-150128bdf854",
   "metadata": {},
   "outputs": [
    {
     "name": "stdout",
     "output_type": "stream",
     "text": [
      "{1, 2, 3}\n"
     ]
    }
   ],
   "source": [
    "#QUESTION 6 : Discuss the use cases of tuples and sets in python programming.\n",
    "\n",
    "'''◇ Use cases of SETS :\n",
    "  1)Removing duplicates.\n",
    "  2)Membership testing.\n",
    "  3)Set operations .\n",
    "  4)Removing elements while iterating.\n",
    "  \n",
    "  ◇ Use cases of TUPLES :\n",
    "  1)Fixed data structure.\n",
    "  2)Return multiple values from function using tuples and disctionary keys.\n",
    "  3)Unpacking sequences.'''\n",
    "\n",
    "\n",
    "#SETS :\n",
    "numbers = [1, 2, 3, 2]\n",
    "unique_numbers = set(numbers)\n",
    "print(unique_numbers)\n",
    "  "
   ]
  },
  {
   "cell_type": "code",
   "execution_count": 15,
   "id": "f62aa729-44a0-45e0-bad6-668f315642e4",
   "metadata": {},
   "outputs": [
    {
     "name": "stdout",
     "output_type": "stream",
     "text": [
      "True\n"
     ]
    }
   ],
   "source": [
    "fruits = {'apple', 'banana'}\n",
    "print('banana' in fruits)  # True"
   ]
  },
  {
   "cell_type": "code",
   "execution_count": 16,
   "id": "88f3e689-7dd4-4c8c-8b9b-02a78698e52b",
   "metadata": {},
   "outputs": [
    {
     "name": "stdout",
     "output_type": "stream",
     "text": [
      "{1, 2, 3}\n"
     ]
    }
   ],
   "source": [
    "set1 = {1, 2}\n",
    "set2 = {2, 3}\n",
    "print(set1.union(set2))  # {1, 2, 3}"
   ]
  },
  {
   "cell_type": "code",
   "execution_count": 17,
   "id": "5d3f0dbb-ab5f-4c2a-a855-c5d48801ce49",
   "metadata": {},
   "outputs": [
    {
     "name": "stdout",
     "output_type": "stream",
     "text": [
      "(10, 20)\n"
     ]
    }
   ],
   "source": [
    "#TUPLES : \n",
    "\n",
    "point = (10, 20)  # immutable coordinates\n",
    "print(point)"
   ]
  },
  {
   "cell_type": "code",
   "execution_count": 18,
   "id": "79780e86-b824-415b-bf86-8fc121d96c00",
   "metadata": {},
   "outputs": [
    {
     "name": "stdout",
     "output_type": "stream",
     "text": [
      "A\n"
     ]
    }
   ],
   "source": [
    "coords = {(1, 2): \"A\"}\n",
    "print(coords[(1, 2)])  # \"A\""
   ]
  },
  {
   "cell_type": "code",
   "execution_count": 19,
   "id": "58cfda24-e02c-435d-ae86-333192f028ba",
   "metadata": {},
   "outputs": [
    {
     "name": "stdout",
     "output_type": "stream",
     "text": [
      "{1: 'pwskills', 2: 'datascience', 3: 'generativeai'}\n",
      "data after deletion : {2: 'datascience', 3: 'generativeai', 0: 'pratishtha'}\n",
      "{2: 'datascience', 3: 'generativeai', 0: 'pratishtha', 4: 'divakar'}\n"
     ]
    }
   ],
   "source": [
    "#QUESTION 7 :Describe how to add, modify and delete items in a dictionary with examples.\n",
    "\n",
    "#A python dictionary stores the value in key:value pairs.\n",
    "\n",
    "d={1:'pwskills',2:'datascience',3:'generativeai'}\n",
    "print(d)\n",
    "d[0]='pratishtha'   # to modify\n",
    "del(d[1])           # to delete\n",
    "print('data after deletion :',d)   \n",
    "d[4]='divakar'      # to add\n",
    "print(d)"
   ]
  },
  {
   "cell_type": "code",
   "execution_count": 23,
   "id": "c2e29a72-3865-403b-9236-be04e19608b3",
   "metadata": {},
   "outputs": [
    {
     "name": "stdout",
     "output_type": "stream",
     "text": [
      "{'rajasthan': 'goa'}\n"
     ]
    },
    {
     "ename": "NameError",
     "evalue": "name 'days' is not defined",
     "output_type": "error",
     "traceback": [
      "\u001b[0;31m---------------------------------------------------------------------------\u001b[0m",
      "\u001b[0;31mNameError\u001b[0m                                 Traceback (most recent call last)",
      "Cell \u001b[0;32mIn[23], line 7\u001b[0m\n\u001b[1;32m      5\u001b[0m india\u001b[38;5;241m=\u001b[39m{\u001b[38;5;124m'\u001b[39m\u001b[38;5;124mrajasthan\u001b[39m\u001b[38;5;124m'\u001b[39m:\u001b[38;5;124m'\u001b[39m\u001b[38;5;124mjaipur\u001b[39m\u001b[38;5;124m'\u001b[39m,\u001b[38;5;124m'\u001b[39m\u001b[38;5;124mrajasthan\u001b[39m\u001b[38;5;124m'\u001b[39m:\u001b[38;5;124m'\u001b[39m\u001b[38;5;124mgoa\u001b[39m\u001b[38;5;124m'\u001b[39m}\n\u001b[1;32m      6\u001b[0m \u001b[38;5;28mprint\u001b[39m(india)\n\u001b[0;32m----> 7\u001b[0m india\u001b[38;5;241m=\u001b[39m{[\u001b[38;5;241m1\u001b[39m,\u001b[38;5;241m2\u001b[39m,\u001b[38;5;241m3\u001b[39m]:\u001b[43mdays\u001b[49m}\n",
      "\u001b[0;31mNameError\u001b[0m: name 'days' is not defined"
     ]
    }
   ],
   "source": [
    "#QUESTION 8 : Discuss the importance of dictionary keys being immutable and provide examples.\n",
    "\n",
    "'''Immutability is essential for keys becoz it ensures that the dictionary can efficiently look up values based on their keys.The a key is mutable , its hash value could change , making it impossible to find the associated value in the dictionary.'''\n",
    "\n",
    "india={'rajasthan':'jaipur','rajasthan':'goa'}\n",
    "print(india)\n",
    "india={[1,2,3]:days}"
   ]
  },
  {
   "cell_type": "code",
   "execution_count": null,
   "id": "963e7405-1667-4fcb-bf1b-a5e50101e4aa",
   "metadata": {},
   "outputs": [],
   "source": []
  },
  {
   "cell_type": "code",
   "execution_count": null,
   "id": "ce9d056a-2898-4094-8b24-28f8b0f474b2",
   "metadata": {},
   "outputs": [],
   "source": []
  }
 ],
 "metadata": {
  "kernelspec": {
   "display_name": "Python 3 (ipykernel)",
   "language": "python",
   "name": "python3"
  },
  "language_info": {
   "codemirror_mode": {
    "name": "ipython",
    "version": 3
   },
   "file_extension": ".py",
   "mimetype": "text/x-python",
   "name": "python",
   "nbconvert_exporter": "python",
   "pygments_lexer": "ipython3",
   "version": "3.10.8"
  }
 },
 "nbformat": 4,
 "nbformat_minor": 5
}
